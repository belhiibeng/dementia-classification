{
  "nbformat": 4,
  "nbformat_minor": 0,
  "metadata": {
    "colab": {
      "name": "Dementia Classification.ipynb",
      "provenance": [],
      "collapsed_sections": [],
      "mount_file_id": "1eH5McjyBf4yyws2AA5HK_NMpD_XKX8Sj",
      "authorship_tag": "ABX9TyN81oe4NOgKHOApm01fO3w3",
      "include_colab_link": true
    },
    "kernelspec": {
      "name": "python3",
      "display_name": "Python 3"
    },
    "language_info": {
      "name": "python"
    }
  },
  "cells": [
    {
      "cell_type": "markdown",
      "metadata": {
        "id": "view-in-github",
        "colab_type": "text"
      },
      "source": [
        "<a href=\"https://colab.research.google.com/github/belhiibeng/dementia-classification/blob/main/Dementia_Classification.ipynb\" target=\"_parent\"><img src=\"https://colab.research.google.com/assets/colab-badge.svg\" alt=\"Open In Colab\"/></a>"
      ]
    },
    {
      "cell_type": "code",
      "execution_count": null,
      "metadata": {
        "id": "UzYpG0BLUmdU",
        "colab": {
          "base_uri": "https://localhost:8080/"
        },
        "outputId": "eeafa4b4-75cb-4913-9677-14806f95f5ac"
      },
      "outputs": [
        {
          "output_type": "stream",
          "name": "stdout",
          "text": [
            "Drive already mounted at /content/drive; to attempt to forcibly remount, call drive.mount(\"/content/drive\", force_remount=True).\n"
          ]
        }
      ],
      "source": [
        "import pandas as pd\n",
        "import matplotlib.pyplot as plt\n",
        "from sklearn.compose import ColumnTransformer\n",
        "from sklearn.pipeline import Pipeline\n",
        "from sklearn.experimental import enable_iterative_imputer\n",
        "from sklearn.impute import IterativeImputer\n",
        "from sklearn.preprocessing import StandardScaler\n",
        "from sklearn.preprocessing import OneHotEncoder\n",
        "from sklearn.ensemble import GradientBoostingClassifier\n",
        "from sklearn.metrics import confusion_matrix, ConfusionMatrixDisplay\n",
        "from sklearn.metrics import classification_report\n",
        "from google.colab import drive\n",
        "drive.mount('/content/drive')"
      ]
    },
    {
      "cell_type": "code",
      "source": [
        "# Read the data\n",
        "train_data = pd.read_csv('/content/drive/MyDrive/Dementia Classification/oasis_longitudinal.csv', index_col='MRI ID')\n",
        "test_data = pd.read_csv('/content/drive/MyDrive/Dementia Classification/oasis_cross-sectional.csv', index_col='ID')\n"
      ],
      "metadata": {
        "id": "Bz8Dp2CwU9eF"
      },
      "execution_count": null,
      "outputs": []
    },
    {
      "cell_type": "code",
      "source": [
        "# Remove rows with missing target, separate target from predictors\n",
        "train_data.dropna(axis=0, subset=['CDR'], inplace=True)\n",
        "test_data.dropna(axis=0, subset=['CDR'], inplace=True)\n",
        "y = train_data.CDR.apply(str)\n",
        "y_test = test_data.CDR.apply(str)\n",
        "train_data.drop(['CDR'], axis=1, inplace=True)\n",
        "test_data.drop(['CDR'], axis=1, inplace=True)"
      ],
      "metadata": {
        "id": "AY0cwb0TXs6R"
      },
      "execution_count": null,
      "outputs": []
    },
    {
      "cell_type": "code",
      "source": [
        "# Select categorical columns with relatively low cardinality\n",
        "categorical_cols = ['M/F']"
      ],
      "metadata": {
        "id": "O6MTuptpYMi8"
      },
      "execution_count": null,
      "outputs": []
    },
    {
      "cell_type": "code",
      "source": [
        "# Select numeric columns\n",
        "numerical_cols = ['Age','Educ', 'SES', 'MMSE', 'eTIV', 'nWBV']"
      ],
      "metadata": {
        "id": "jrZw5RVsYT_Q"
      },
      "execution_count": null,
      "outputs": []
    },
    {
      "cell_type": "code",
      "source": [
        "# Keep selected columns only\n",
        "my_cols = categorical_cols + numerical_cols\n",
        "X = train_data[my_cols].copy()\n",
        "X_test = test_data[my_cols].copy()"
      ],
      "metadata": {
        "id": "H2wUgqLvYXdI"
      },
      "execution_count": null,
      "outputs": []
    },
    {
      "cell_type": "code",
      "source": [
        "# Preprocessing for categorical data\n",
        "categorical_transformer = OneHotEncoder()"
      ],
      "metadata": {
        "id": "3qEyOR2cAAz0"
      },
      "execution_count": null,
      "outputs": []
    },
    {
      "cell_type": "code",
      "source": [
        "# Preprocessing for numerical data\n",
        "numerical_transformer = Pipeline(steps=[\n",
        "    ('imputer', IterativeImputer()),\n",
        "    ('scaler', StandardScaler())\n",
        "])"
      ],
      "metadata": {
        "id": "m6mxg79m955d"
      },
      "execution_count": null,
      "outputs": []
    },
    {
      "cell_type": "code",
      "source": [
        "# Bundle preprocessing for numerical and categorical data\n",
        "preprocessor = ColumnTransformer(\n",
        "    transformers=[\n",
        "        ('num', numerical_transformer, numerical_cols),\n",
        "        ('cat', categorical_transformer, categorical_cols)\n",
        "    ])"
      ],
      "metadata": {
        "id": "WuzpEr6jA2vW"
      },
      "execution_count": null,
      "outputs": []
    },
    {
      "cell_type": "code",
      "source": [
        "# Define the model\n",
        "model = GradientBoostingClassifier(random_state=0)"
      ],
      "metadata": {
        "id": "ZOYD-eB6cqlp"
      },
      "execution_count": null,
      "outputs": []
    },
    {
      "cell_type": "code",
      "source": [
        "# Bundle preprocessing and modeling code in a pipeline\n",
        "clf = Pipeline(steps=[('preprocessor', preprocessor),\n",
        "                      ('model', model)\n",
        "                     ])"
      ],
      "metadata": {
        "id": "bLjkqzIGCDwX"
      },
      "execution_count": null,
      "outputs": []
    },
    {
      "cell_type": "code",
      "source": [
        "# Preprocessing of training data, fit model \n",
        "clf.fit(X, y)"
      ],
      "metadata": {
        "id": "1tJYeDfh2nDB",
        "colab": {
          "base_uri": "https://localhost:8080/"
        },
        "outputId": "df127f32-5730-4103-8384-dbccffc972a7"
      },
      "execution_count": null,
      "outputs": [
        {
          "output_type": "execute_result",
          "data": {
            "text/plain": [
              "Pipeline(steps=[('preprocessor',\n",
              "                 ColumnTransformer(transformers=[('num',\n",
              "                                                  Pipeline(steps=[('imputer',\n",
              "                                                                   IterativeImputer()),\n",
              "                                                                  ('scaler',\n",
              "                                                                   StandardScaler())]),\n",
              "                                                  ['Age', 'Educ', 'SES', 'MMSE',\n",
              "                                                   'eTIV', 'nWBV']),\n",
              "                                                 ('cat', OneHotEncoder(),\n",
              "                                                  ['M/F'])])),\n",
              "                ('model', GradientBoostingClassifier(random_state=0))])"
            ]
          },
          "metadata": {},
          "execution_count": 33
        }
      ]
    },
    {
      "cell_type": "code",
      "source": [
        "# Preprocessing of test data, get predictions\n",
        "predictions = clf.predict(X_test)"
      ],
      "metadata": {
        "id": "m9fT_a0kbvDL"
      },
      "execution_count": null,
      "outputs": []
    },
    {
      "cell_type": "code",
      "source": [
        "# Evaluate the model\n",
        "cm = confusion_matrix(y_test, predictions, labels=clf.classes_)\n",
        "disp = ConfusionMatrixDisplay(confusion_matrix=cm, display_labels=clf.classes_)\n",
        "disp.plot()\n",
        "print(\"Confusion Matrix:\")\n",
        "plt.show()\n",
        "clr = classification_report(y_test, predictions)\n",
        "print(\"\\nClassification Report:\\n\", clr)"
      ],
      "metadata": {
        "colab": {
          "base_uri": "https://localhost:8080/",
          "height": 522
        },
        "id": "e9HM-knlb4vG",
        "outputId": "3f62b8c6-dc8f-46cc-be8e-bd2391c58f0d"
      },
      "execution_count": null,
      "outputs": [
        {
          "output_type": "stream",
          "name": "stdout",
          "text": [
            "Confusion Matrix:\n"
          ]
        },
        {
          "output_type": "display_data",
          "data": {
            "text/plain": [
              "<Figure size 432x288 with 2 Axes>"
            ],
            "image/png": "[encoded data removed]"
          },
          "metadata": {
            "needs_background": "light"
          }
        },
        {
          "output_type": "stream",
          "name": "stdout",
          "text": [
            "\n",
            "Classification Report:\n",
            "               precision    recall  f1-score   support\n",
            "\n",
            "         0.0       0.91      0.93      0.92       135\n",
            "         0.5       0.73      0.81      0.77        70\n",
            "         1.0       0.94      0.57      0.71        28\n",
            "         2.0       1.00      1.00      1.00         2\n",
            "\n",
            "    accuracy                           0.85       235\n",
            "   macro avg       0.89      0.83      0.85       235\n",
            "weighted avg       0.86      0.85      0.85       235\n",
            "\n"
          ]
        }
      ]
    }
  ]
}