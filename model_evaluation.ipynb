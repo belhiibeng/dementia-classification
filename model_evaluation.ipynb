{
  "nbformat": 4,
  "nbformat_minor": 0,
  "metadata": {
    "colab": {
      "provenance": [],
      "collapsed_sections": [],
      "mount_file_id": "1eH5McjyBf4yyws2AA5HK_NMpD_XKX8Sj",
      "authorship_tag": "ABX9TyNLkJ8cCANGi7i1Odbs0U6K",
      "include_colab_link": true
    },
    "kernelspec": {
      "name": "python3",
      "display_name": "Python 3"
    },
    "language_info": {
      "name": "python"
    }
  },
  "cells": [
    {
      "cell_type": "markdown",
      "metadata": {
        "id": "view-in-github",
        "colab_type": "text"
      },
      "source": [
        "<a href=\"https://colab.research.google.com/github/belhiibeng/dementia-classification/blob/main/model_evaluation.ipynb\" target=\"_parent\"><img src=\"https://colab.research.google.com/assets/colab-badge.svg\" alt=\"Open In Colab\"/></a>"
      ]
    },
    {
      "cell_type": "code",
      "execution_count": null,
      "metadata": {
        "id": "UzYpG0BLUmdU",
        "colab": {
          "base_uri": "https://localhost:8080/"
        },
        "outputId": "6a5ee125-2e6d-40da-80bc-170f1f816bea"
      },
      "outputs": [
        {
          "output_type": "stream",
          "name": "stdout",
          "text": [
            "Drive already mounted at /content/drive; to attempt to forcibly remount, call drive.mount(\"/content/drive\", force_remount=True).\n"
          ]
        }
      ],
      "source": [
        "#Import the necessary libraries\n",
        "import pandas as pd\n",
        "import matplotlib.pyplot as plt\n",
        "from sklearn.preprocessing import LabelEncoder\n",
        "from sklearn.ensemble import GradientBoostingClassifier\n",
        "from sklearn.metrics import confusion_matrix, ConfusionMatrixDisplay\n",
        "from sklearn.metrics import classification_report\n",
        "from google.colab import drive\n",
        "drive.mount('/content/drive')"
      ]
    },
    {
      "cell_type": "code",
      "source": [
        "# Read the data\n",
        "train_data = pd.read_csv('/content/drive/MyDrive/Dementia Classification/oasis_longitudinal.csv', index_col='MRI ID')\n",
        "test_data = pd.read_csv('/content/drive/MyDrive/Dementia Classification/oasis_cross-sectional.csv', index_col='ID')"
      ],
      "metadata": {
        "id": "Bz8Dp2CwU9eF"
      },
      "execution_count": null,
      "outputs": []
    },
    {
      "cell_type": "code",
      "source": [
        "# Select target columns\n",
        "target_cols = ['CDR']"
      ],
      "metadata": {
        "id": "x6Bx20qfcDNN"
      },
      "execution_count": null,
      "outputs": []
    },
    {
      "cell_type": "code",
      "source": [
        "# Select feature columns\n",
        "feature_cols = ['M/F', 'Age', 'Educ', 'SES', 'MMSE', 'eTIV', 'nWBV']"
      ],
      "metadata": {
        "id": "O6MTuptpYMi8"
      },
      "execution_count": null,
      "outputs": []
    },
    {
      "cell_type": "code",
      "source": [
        "# Keep selected columns only\n",
        "selected_cols = feature_cols + target_cols\n",
        "train_data = train_data[selected_cols].copy()\n",
        "test_data = test_data[selected_cols].copy()"
      ],
      "metadata": {
        "id": "0VRhdLfXhXnD"
      },
      "execution_count": null,
      "outputs": []
    },
    {
      "cell_type": "code",
      "source": [
        "# Remove rows with missing value\n",
        "train_data.dropna(axis=0, inplace=True)\n",
        "test_data.dropna(axis=0, inplace=True)"
      ],
      "metadata": {
        "id": "AY0cwb0TXs6R"
      },
      "execution_count": null,
      "outputs": []
    },
    {
      "cell_type": "code",
      "source": [
        "# Seperate target from predictors\n",
        "X = train_data[feature_cols].copy()\n",
        "X_test = test_data[feature_cols].copy()\n",
        "y = train_data['CDR'].apply(str)\n",
        "y_test = test_data['CDR'].apply(str)"
      ],
      "metadata": {
        "id": "H2wUgqLvYXdI"
      },
      "execution_count": null,
      "outputs": []
    },
    {
      "cell_type": "code",
      "source": [
        "# Encoding for categorical data\n",
        "encoder = LabelEncoder()\n",
        "X['M/F'] = encoder.fit_transform(X['M/F'])\n",
        "X_test['M/F'] = encoder.transform(X_test['M/F'])"
      ],
      "metadata": {
        "id": "3qEyOR2cAAz0"
      },
      "execution_count": null,
      "outputs": []
    },
    {
      "cell_type": "code",
      "source": [
        "# Define and fit the model\n",
        "clf = GradientBoostingClassifier(random_state=0)\n",
        "clf.fit(X, y)"
      ],
      "metadata": {
        "id": "ZOYD-eB6cqlp",
        "colab": {
          "base_uri": "https://localhost:8080/"
        },
        "outputId": "664d69f2-3661-48cd-e5bc-56489d4df529"
      },
      "execution_count": null,
      "outputs": [
        {
          "output_type": "execute_result",
          "data": {
            "text/plain": [
              "GradientBoostingClassifier(random_state=0)"
            ]
          },
          "metadata": {},
          "execution_count": 9
        }
      ]
    },
    {
      "cell_type": "code",
      "source": [
        "# Get predictions\n",
        "predictions = clf.predict(X_test)"
      ],
      "metadata": {
        "id": "m9fT_a0kbvDL"
      },
      "execution_count": null,
      "outputs": []
    },
    {
      "cell_type": "code",
      "source": [
        "# Save test predictions to file\n",
        "output = pd.DataFrame({'ID': X_test.index,\n",
        "                       'Predicted Label': predictions,\n",
        "                       'True Label':y_test})\n",
        "output.to_csv('/content/drive/MyDrive/Dementia Classification/predictions.csv', index=False)"
      ],
      "metadata": {
        "id": "SXazMgr5NvC6"
      },
      "execution_count": null,
      "outputs": []
    },
    {
      "cell_type": "code",
      "source": [
        "# Evaluate the model\n",
        "cm = confusion_matrix(y_test, predictions, labels=clf.classes_)\n",
        "disp = ConfusionMatrixDisplay(confusion_matrix=cm, display_labels=clf.classes_)\n",
        "disp.plot()\n",
        "print(\"Confusion Matrix:\")\n",
        "plt.show()\n",
        "clr = classification_report(y_test, predictions)\n",
        "print(\"\\nClassification Report:\\n\", clr)"
      ],
      "metadata": {
        "colab": {
          "base_uri": "https://localhost:8080/",
          "height": 522
        },
        "id": "e9HM-knlb4vG",
        "outputId": "d6157c48-4025-4cee-930a-ea791ec8b6aa"
      },
      "execution_count": null,
      "outputs": [
        {
          "output_type": "stream",
          "name": "stdout",
          "text": [
            "Confusion Matrix:\n"
          ]
        },
        {
          "output_type": "display_data",
          "data": {
            "text/plain": [
              "<Figure size 432x288 with 2 Axes>"
            ],
            "image/png": "[encoded data removed]"
          },
          "metadata": {
            "needs_background": "light"
          }
        },
        {
          "output_type": "stream",
          "name": "stdout",
          "text": [
            "\n",
            "Classification Report:\n",
            "               precision    recall  f1-score   support\n",
            "\n",
            "         0.0       0.91      0.95      0.93       133\n",
            "         0.5       0.77      0.77      0.77        57\n",
            "         1.0       0.89      0.71      0.79        24\n",
            "         2.0       1.00      1.00      1.00         2\n",
            "\n",
            "    accuracy                           0.88       216\n",
            "   macro avg       0.89      0.86      0.87       216\n",
            "weighted avg       0.87      0.88      0.87       216\n",
            "\n"
          ]
        }
      ]
    }
  ]
}